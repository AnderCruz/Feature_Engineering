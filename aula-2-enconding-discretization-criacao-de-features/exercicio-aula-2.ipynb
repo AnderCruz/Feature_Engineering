{
 "cells": [
  {
   "cell_type": "markdown",
   "metadata": {},
   "source": [
    "# Exercício da Aula 2\n",
    "\n",
    "O objetivo deste exercício é aplicar técnicas de Feature Engineering para transformar e melhorar a qualidade dos dados, com foco em variáveis categóricas e numéricas. Os alunos trabalharão com um dataset de Doenças Cardíacas e serão desafiados a realizar as seguintes atividades:\n",
    "\n",
    "- Análise Exploratória de Dados (EDA) - Básica:\n",
    "    - Visualização e Sumarização: Visualize as primeiras linhas do dataset e calcule estatísticas descritivas básicas como média, mediana, desvio padrão, valores máximos e mínimos para as variáveis numéricas (age, trestbps, chol, thalach, etc.). Analise a distribuição das variáveis categóricas (cp, thal, ca).\n",
    "\n",
    "- Técnicas de Encoding para Variáveis Categóricas:\n",
    "    - One-Hot Encoding: Aplique One-Hot Encoding na variável cp (tipo de dor no peito). Analise como a transformação altera a estrutura do dataset.\n",
    "    - Ordinal Encoding: Aplique Ordinal Encoding na variável thal (resultado do teste de estresse). Explique a razão para escolher essa técnica para esta variável.\n",
    "    - Binary Encoding: Aplique Binary Encoding na variável ca (número de vasos principais coloridos). Discuta as vantagens de usar Binary Encoding em variáveis com alta cardinalidade.\n",
    "\n",
    "- Técnicas de Discretização para Variáveis Numéricas:\n",
    "    - Equal Width Binning: Aplique Equal Width Binning na variável age para criar faixas de idade. Visualize a nova distribuição das faixas.\n",
    "    - Equal Frequency Binning: Aplique Equal Frequency Binning na variável trestbps (pressão arterial em repouso). Compare a distribuição resultante com a anterior.\n",
    "    - K-Means Clustering: Aplique K-Means Clustering na variável chol (colesterol). Verifique como os clusters formados podem ser interpretados em termos clínicos.\n",
    "\n",
    "- Criação de Features Derivadas:\n",
    "    - Feature Crossing: Crie uma nova feature combinando age_binned e trestbps_binned. Explique como a interação entre essas variáveis pode fornecer insights adicionais.\n",
    "    - Feature Transformation: Aplique uma transformação logarítmica na variável oldpeak (depressão do ST). Compare a distribuição antes e depois da transformação.\n",
    "\n",
    "- Documentação e Relatório:\n",
    "    - Relatório: Documente todos os passos seguidos, as decisões tomadas, e as descobertas realizadas. Inclua gráficos e tabelas relevantes para suportar suas conclusões. Discuta as implicações das transformações de features na análise final."
   ]
  },
  {
   "cell_type": "markdown",
   "metadata": {},
   "source": [
    "# Dataset \"Doenças Cardíacas\"\n",
    "\n",
    "Este dataset, disponível publicamente no Kaggle, contém informações sobre pacientes com possíveis doenças cardíacas. As variáveis incluem medidas clínicas e dados demográficos que podem ser usados para prever a presença de uma doença cardíaca.\n",
    "\n",
    "- Principais Características do Dataset:\n",
    "    - age: Idade do paciente (em anos).\n",
    "    - sex: Sexo do paciente (1 = Masculino, 0 = Feminino).\n",
    "    - cp: Tipo de dor no peito (0 = Assintomático, 1 = Angina Típica, 2 = Angina Atípica, 3 = Dor não-anginosa).\n",
    "    - trestbps: Pressão arterial em repouso (em mm Hg).\n",
    "    - chol: Colesterol sérico (em mg/dl).\n",
    "    - fbs: Glicemia em jejum > 120 mg/dl (1 = Verdadeiro, 0 = Falso).\n",
    "    - restecg: Resultados do eletrocardiograma em repouso (0 = Normal, 1 = Anormalidade da onda ST-T, 2 = Hipertrofia ventricular esquerda).\n",
    "    - thalach: Frequência cardíaca máxima alcançada (em batimentos por minuto).\n",
    "    - exang: Angina induzida por exercício (1 = Sim, 0 = Não).\n",
    "    - oldpeak: Depressão do segmento ST induzida por exercício em relação ao repouso.\n",
    "    - slope: Inclinação do segmento ST durante o exercício (0 = Descendente, 1 = Plana, 2 = Ascendente).\n",
    "    - ca: Número de vasos principais (0-3) coloridos por fluoroscopia.\n",
    "    - thal: Tipo de defeito talassêmico (1 = Normal, 2 = Defeito fixo, 3 = Defeito reversível).\n",
    "    - target: Diagnóstico de doença cardíaca (1 = Presença de doença, 0 = Ausência de doença).\n",
    "    \n",
    "- Importância das Variáveis:\n",
    "    - age: A idade pode ser um fator de risco significativo para doenças cardíacas, influenciando diretamente o diagnóstico.\n",
    "    - sex: O sexo do paciente pode ajudar a identificar padrões de prevalência de doenças cardíacas entre homens e mulheres.\n",
    "    - cp: O tipo de dor no peito é um indicador clínico chave na avaliação de doenças cardíacas.\n",
    "    - trestbps: A pressão arterial em repouso é um importante fator de risco para doenças cardiovasculares.\n",
    "    - chol: Níveis elevados de colesterol estão associados a um maior risco de doenças cardíacas.\n",
    "    - fbs: A glicemia em jejum é utilizada para avaliar o risco de diabetes, que é um fator de risco para doenças cardíacas.\n",
    "    - restecg: Resultados anormais no eletrocardiograma podem indicar a presença de doenças cardíacas.\n",
    "    - thalach: A frequência cardíaca máxima pode ser utilizada para avaliar a saúde cardiovascular durante o esforço físico.\n",
    "    - exang: A angina induzida por exercício pode indicar problemas na circulação sanguínea que são exacerbados pelo esforço.\n",
    "    - oldpeak: A depressão do segmento ST é uma medida utilizada para avaliar o fluxo sanguíneo para o coração durante o exercício.\n",
    "    - slope: A inclinação do segmento ST durante o exercício pode fornecer informações sobre a resposta do coração ao estresse físico.\n",
    "    - ca: O número de vasos coloridos por fluoroscopia pode indicar a extensão de bloqueios arteriais.\n",
    "    - thal: O tipo de defeito talassêmico ajuda a avaliar a gravidade da doença cardíaca.\n",
    "    - target: A variável de destino indica se o paciente foi diagnosticado com uma doença cardíaca, sendo o principal ponto de interesse para predição."
   ]
  }
 ],
 "metadata": {
  "language_info": {
   "name": "python"
  }
 },
 "nbformat": 4,
 "nbformat_minor": 2
}
