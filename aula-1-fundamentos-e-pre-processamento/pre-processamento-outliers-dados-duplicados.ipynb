{
 "cells": [
  {
   "cell_type": "markdown",
   "metadata": {},
   "source": [
    "# 1 Introdução"
   ]
  },
  {
   "cell_type": "markdown",
   "metadata": {},
   "source": [
    "## Lidando com Outliers e Dados Duplicados\n",
    "\n",
    "Este notebook aborda técnicas para lidar com outliers e dados duplicados em um dataset. Utilizaremos o dataset \"House Prices - Advanced Regression Techniques\" do Kaggle como exemplo."
   ]
  },
  {
   "cell_type": "markdown",
   "metadata": {},
   "source": [
    "# 2 Carregamento e Exploração Inicial do Dataset"
   ]
  },
  {
   "cell_type": "markdown",
   "metadata": {},
   "source": [
    "## 2.1 Importação das Bibliotecas Necessárias"
   ]
  },
  {
   "cell_type": "code",
   "execution_count": 1,
   "metadata": {},
   "outputs": [],
   "source": [
    "import pandas as pd\n",
    "import numpy as np\n",
    "import matplotlib.pyplot as plt\n",
    "import seaborn as sns\n",
    "from sklearn.preprocessing import MinMaxScaler\n",
    "from sklearn.impute import SimpleImputer\n",
    "from sklearn.linear_model import LinearRegression\n",
    "from sklearn.model_selection import train_test_split\n",
    "from sklearn.metrics import mean_squared_error, r2_score"
   ]
  },
  {
   "cell_type": "markdown",
   "metadata": {},
   "source": [
    "## 2.2 Carregamento do Dataset"
   ]
  },
  {
   "cell_type": "markdown",
   "metadata": {},
   "source": [
    "Dataset orignalmente retirado de https://www.kaggle.com/datasets/lespin/house-prices-dataset\n",
    "\n",
    "Descrição do Dataset\n",
    "\n",
    "Este dataset, originalmente retirado de Kaggle - House Prices Dataset, foi editado para a finalidade deste notebook. Ele contém informações sobre preços de imóveis e diversas características associadas a cada propriedade. O objetivo é analisar e manipular os dados para entender como as características dos imóveis influenciam seus preços.\n",
    "\n",
    "Conteúdo do Dataset:\n",
    "\n",
    "Características dos Imóveis: Inclui variáveis como tamanho da casa, número de quartos, número de banheiros, tipo de garagem, entre outros.\n",
    "\n",
    "Preço: Preço final do imóvel."
   ]
  },
  {
   "cell_type": "code",
   "execution_count": 2,
   "metadata": {},
   "outputs": [],
   "source": [
    "df = pd.read_csv('datasets/house_prices.csv')"
   ]
  },
  {
   "cell_type": "markdown",
   "metadata": {},
   "source": [
    "## 2.3 Visualização Inicial dos Dados"
   ]
  },
  {
   "cell_type": "code",
   "execution_count": 3,
   "metadata": {},
   "outputs": [
    {
     "data": {
      "text/html": [
       "<div>\n",
       "<style scoped>\n",
       "    .dataframe tbody tr th:only-of-type {\n",
       "        vertical-align: middle;\n",
       "    }\n",
       "\n",
       "    .dataframe tbody tr th {\n",
       "        vertical-align: top;\n",
       "    }\n",
       "\n",
       "    .dataframe thead th {\n",
       "        text-align: right;\n",
       "    }\n",
       "</style>\n",
       "<table border=\"1\" class=\"dataframe\">\n",
       "  <thead>\n",
       "    <tr style=\"text-align: right;\">\n",
       "      <th></th>\n",
       "      <th>MSSubClass</th>\n",
       "      <th>MSZoning</th>\n",
       "      <th>LotFrontage</th>\n",
       "      <th>LotArea</th>\n",
       "      <th>Street</th>\n",
       "      <th>Alley</th>\n",
       "      <th>LotShape</th>\n",
       "      <th>LandContour</th>\n",
       "      <th>Utilities</th>\n",
       "      <th>LotConfig</th>\n",
       "      <th>...</th>\n",
       "      <th>PoolArea</th>\n",
       "      <th>PoolQC</th>\n",
       "      <th>Fence</th>\n",
       "      <th>MiscFeature</th>\n",
       "      <th>MiscVal</th>\n",
       "      <th>MoSold</th>\n",
       "      <th>YrSold</th>\n",
       "      <th>SaleType</th>\n",
       "      <th>SaleCondition</th>\n",
       "      <th>SalePrice</th>\n",
       "    </tr>\n",
       "  </thead>\n",
       "  <tbody>\n",
       "    <tr>\n",
       "      <th>0</th>\n",
       "      <td>60</td>\n",
       "      <td>RL</td>\n",
       "      <td>65.0</td>\n",
       "      <td>8450</td>\n",
       "      <td>Pave</td>\n",
       "      <td>NaN</td>\n",
       "      <td>Reg</td>\n",
       "      <td>Lvl</td>\n",
       "      <td>AllPub</td>\n",
       "      <td>Inside</td>\n",
       "      <td>...</td>\n",
       "      <td>0</td>\n",
       "      <td>NaN</td>\n",
       "      <td>NaN</td>\n",
       "      <td>NaN</td>\n",
       "      <td>0</td>\n",
       "      <td>2</td>\n",
       "      <td>2008</td>\n",
       "      <td>WD</td>\n",
       "      <td>Normal</td>\n",
       "      <td>208500.0</td>\n",
       "    </tr>\n",
       "    <tr>\n",
       "      <th>1</th>\n",
       "      <td>20</td>\n",
       "      <td>RL</td>\n",
       "      <td>80.0</td>\n",
       "      <td>9600</td>\n",
       "      <td>Pave</td>\n",
       "      <td>NaN</td>\n",
       "      <td>Reg</td>\n",
       "      <td>Lvl</td>\n",
       "      <td>AllPub</td>\n",
       "      <td>FR2</td>\n",
       "      <td>...</td>\n",
       "      <td>0</td>\n",
       "      <td>NaN</td>\n",
       "      <td>NaN</td>\n",
       "      <td>NaN</td>\n",
       "      <td>0</td>\n",
       "      <td>5</td>\n",
       "      <td>2007</td>\n",
       "      <td>WD</td>\n",
       "      <td>Normal</td>\n",
       "      <td>181500.0</td>\n",
       "    </tr>\n",
       "    <tr>\n",
       "      <th>2</th>\n",
       "      <td>60</td>\n",
       "      <td>RL</td>\n",
       "      <td>68.0</td>\n",
       "      <td>11250</td>\n",
       "      <td>Pave</td>\n",
       "      <td>NaN</td>\n",
       "      <td>IR1</td>\n",
       "      <td>Lvl</td>\n",
       "      <td>AllPub</td>\n",
       "      <td>Inside</td>\n",
       "      <td>...</td>\n",
       "      <td>0</td>\n",
       "      <td>NaN</td>\n",
       "      <td>NaN</td>\n",
       "      <td>NaN</td>\n",
       "      <td>0</td>\n",
       "      <td>9</td>\n",
       "      <td>2008</td>\n",
       "      <td>WD</td>\n",
       "      <td>Normal</td>\n",
       "      <td>223500.0</td>\n",
       "    </tr>\n",
       "    <tr>\n",
       "      <th>3</th>\n",
       "      <td>70</td>\n",
       "      <td>RL</td>\n",
       "      <td>60.0</td>\n",
       "      <td>9550</td>\n",
       "      <td>Pave</td>\n",
       "      <td>NaN</td>\n",
       "      <td>IR1</td>\n",
       "      <td>Lvl</td>\n",
       "      <td>AllPub</td>\n",
       "      <td>Corner</td>\n",
       "      <td>...</td>\n",
       "      <td>0</td>\n",
       "      <td>NaN</td>\n",
       "      <td>NaN</td>\n",
       "      <td>NaN</td>\n",
       "      <td>0</td>\n",
       "      <td>2</td>\n",
       "      <td>2006</td>\n",
       "      <td>WD</td>\n",
       "      <td>Abnorml</td>\n",
       "      <td>140000.0</td>\n",
       "    </tr>\n",
       "    <tr>\n",
       "      <th>4</th>\n",
       "      <td>60</td>\n",
       "      <td>RL</td>\n",
       "      <td>84.0</td>\n",
       "      <td>14260</td>\n",
       "      <td>Pave</td>\n",
       "      <td>NaN</td>\n",
       "      <td>IR1</td>\n",
       "      <td>Lvl</td>\n",
       "      <td>AllPub</td>\n",
       "      <td>FR2</td>\n",
       "      <td>...</td>\n",
       "      <td>0</td>\n",
       "      <td>NaN</td>\n",
       "      <td>NaN</td>\n",
       "      <td>NaN</td>\n",
       "      <td>0</td>\n",
       "      <td>12</td>\n",
       "      <td>2008</td>\n",
       "      <td>WD</td>\n",
       "      <td>Normal</td>\n",
       "      <td>250000.0</td>\n",
       "    </tr>\n",
       "  </tbody>\n",
       "</table>\n",
       "<p>5 rows × 80 columns</p>\n",
       "</div>"
      ],
      "text/plain": [
       "   MSSubClass MSZoning  LotFrontage  LotArea Street Alley LotShape  \\\n",
       "0          60       RL         65.0     8450   Pave   NaN      Reg   \n",
       "1          20       RL         80.0     9600   Pave   NaN      Reg   \n",
       "2          60       RL         68.0    11250   Pave   NaN      IR1   \n",
       "3          70       RL         60.0     9550   Pave   NaN      IR1   \n",
       "4          60       RL         84.0    14260   Pave   NaN      IR1   \n",
       "\n",
       "  LandContour Utilities LotConfig  ... PoolArea PoolQC Fence MiscFeature  \\\n",
       "0         Lvl    AllPub    Inside  ...        0    NaN   NaN         NaN   \n",
       "1         Lvl    AllPub       FR2  ...        0    NaN   NaN         NaN   \n",
       "2         Lvl    AllPub    Inside  ...        0    NaN   NaN         NaN   \n",
       "3         Lvl    AllPub    Corner  ...        0    NaN   NaN         NaN   \n",
       "4         Lvl    AllPub       FR2  ...        0    NaN   NaN         NaN   \n",
       "\n",
       "  MiscVal MoSold  YrSold  SaleType  SaleCondition  SalePrice  \n",
       "0       0      2    2008        WD         Normal   208500.0  \n",
       "1       0      5    2007        WD         Normal   181500.0  \n",
       "2       0      9    2008        WD         Normal   223500.0  \n",
       "3       0      2    2006        WD        Abnorml   140000.0  \n",
       "4       0     12    2008        WD         Normal   250000.0  \n",
       "\n",
       "[5 rows x 80 columns]"
      ]
     },
     "execution_count": 3,
     "metadata": {},
     "output_type": "execute_result"
    }
   ],
   "source": [
    "df.head()"
   ]
  },
  {
   "cell_type": "markdown",
   "metadata": {},
   "source": [
    "## 2.4 Informações do Dataset"
   ]
  },
  {
   "cell_type": "code",
   "execution_count": 4,
   "metadata": {},
   "outputs": [
    {
     "name": "stdout",
     "output_type": "stream",
     "text": [
      "<class 'pandas.core.frame.DataFrame'>\n",
      "RangeIndex: 3210 entries, 0 to 3209\n",
      "Data columns (total 80 columns):\n",
      " #   Column         Non-Null Count  Dtype  \n",
      "---  ------         --------------  -----  \n",
      " 0   MSSubClass     3210 non-null   int64  \n",
      " 1   MSZoning       3205 non-null   object \n",
      " 2   LotFrontage    2673 non-null   float64\n",
      " 3   LotArea        3210 non-null   int64  \n",
      " 4   Street         3210 non-null   object \n",
      " 5   Alley          229 non-null    object \n",
      " 6   LotShape       3210 non-null   object \n",
      " 7   LandContour    3210 non-null   object \n",
      " 8   Utilities      3208 non-null   object \n",
      " 9   LotConfig      3210 non-null   object \n",
      " 10  LandSlope      3210 non-null   object \n",
      " 11  Neighborhood   3210 non-null   object \n",
      " 12  Condition1     3210 non-null   object \n",
      " 13  Condition2     3210 non-null   object \n",
      " 14  BldgType       3210 non-null   object \n",
      " 15  HouseStyle     3210 non-null   object \n",
      " 16  OverallQual    3210 non-null   int64  \n",
      " 17  OverallCond    3210 non-null   int64  \n",
      " 18  YearBuilt      3210 non-null   int64  \n",
      " 19  YearRemodAdd   3210 non-null   int64  \n",
      " 20  RoofStyle      3210 non-null   object \n",
      " 21  RoofMatl       3210 non-null   object \n",
      " 22  Exterior1st    3209 non-null   object \n",
      " 23  Exterior2nd    3209 non-null   object \n",
      " 24  MasVnrType     1267 non-null   object \n",
      " 25  MasVnrArea     3186 non-null   float64\n",
      " 26  ExterQual      3210 non-null   object \n",
      " 27  ExterCond      3210 non-null   object \n",
      " 28  Foundation     3210 non-null   object \n",
      " 29  BsmtQual       3122 non-null   object \n",
      " 30  BsmtCond       3120 non-null   object \n",
      " 31  BsmtExposure   3121 non-null   object \n",
      " 32  BsmtFinType1   3124 non-null   object \n",
      " 33  BsmtFinSF1     3209 non-null   float64\n",
      " 34  BsmtFinType2   3123 non-null   object \n",
      " 35  BsmtFinSF2     3209 non-null   float64\n",
      " 36  BsmtUnfSF      3209 non-null   float64\n",
      " 37  TotalBsmtSF    3209 non-null   float64\n",
      " 38  Heating        3210 non-null   object \n",
      " 39  HeatingQC      3210 non-null   object \n",
      " 40  CentralAir     3210 non-null   object \n",
      " 41  Electrical     3209 non-null   object \n",
      " 42  1stFlrSF       3210 non-null   int64  \n",
      " 43  2ndFlrSF       3210 non-null   int64  \n",
      " 44  LowQualFinSF   3210 non-null   int64  \n",
      " 45  GrLivArea      3210 non-null   int64  \n",
      " 46  BsmtFullBath   3208 non-null   float64\n",
      " 47  BsmtHalfBath   3208 non-null   float64\n",
      " 48  FullBath       3210 non-null   int64  \n",
      " 49  HalfBath       3210 non-null   int64  \n",
      " 50  BedroomAbvGr   3210 non-null   int64  \n",
      " 51  KitchenAbvGr   3210 non-null   int64  \n",
      " 52  KitchenQual    3209 non-null   object \n",
      " 53  TotRmsAbvGrd   3210 non-null   int64  \n",
      " 54  Functional     3207 non-null   object \n",
      " 55  Fireplaces     3210 non-null   int64  \n",
      " 56  FireplaceQu    1642 non-null   object \n",
      " 57  GarageType     3037 non-null   object \n",
      " 58  GarageYrBlt    3035 non-null   float64\n",
      " 59  GarageFinish   3035 non-null   object \n",
      " 60  GarageCars     3209 non-null   float64\n",
      " 61  GarageArea     3209 non-null   float64\n",
      " 62  GarageQual     3035 non-null   object \n",
      " 63  GarageCond     3035 non-null   object \n",
      " 64  PavedDrive     3210 non-null   object \n",
      " 65  WoodDeckSF     3210 non-null   int64  \n",
      " 66  OpenPorchSF    3210 non-null   int64  \n",
      " 67  EnclosedPorch  3210 non-null   int64  \n",
      " 68  3SsnPorch      3210 non-null   int64  \n",
      " 69  ScreenPorch    3210 non-null   int64  \n",
      " 70  PoolArea       3210 non-null   int64  \n",
      " 71  PoolQC         11 non-null     object \n",
      " 72  Fence          626 non-null    object \n",
      " 73  MiscFeature    115 non-null    object \n",
      " 74  MiscVal        3210 non-null   int64  \n",
      " 75  MoSold         3210 non-null   int64  \n",
      " 76  YrSold         3210 non-null   int64  \n",
      " 77  SaleType       3209 non-null   object \n",
      " 78  SaleCondition  3210 non-null   object \n",
      " 79  SalePrice      1595 non-null   float64\n",
      "dtypes: float64(12), int64(25), object(43)\n",
      "memory usage: 2.0+ MB\n"
     ]
    }
   ],
   "source": [
    "df.info()"
   ]
  },
  {
   "cell_type": "markdown",
   "metadata": {},
   "source": [
    "## 2.5 Estatísticas Descritivas"
   ]
  },
  {
   "cell_type": "code",
   "execution_count": 5,
   "metadata": {},
   "outputs": [
    {
     "data": {
      "text/html": [
       "<div>\n",
       "<style scoped>\n",
       "    .dataframe tbody tr th:only-of-type {\n",
       "        vertical-align: middle;\n",
       "    }\n",
       "\n",
       "    .dataframe tbody tr th {\n",
       "        vertical-align: top;\n",
       "    }\n",
       "\n",
       "    .dataframe thead th {\n",
       "        text-align: right;\n",
       "    }\n",
       "</style>\n",
       "<table border=\"1\" class=\"dataframe\">\n",
       "  <thead>\n",
       "    <tr style=\"text-align: right;\">\n",
       "      <th></th>\n",
       "      <th>MSSubClass</th>\n",
       "      <th>LotFrontage</th>\n",
       "      <th>LotArea</th>\n",
       "      <th>OverallQual</th>\n",
       "      <th>OverallCond</th>\n",
       "      <th>YearBuilt</th>\n",
       "      <th>YearRemodAdd</th>\n",
       "      <th>MasVnrArea</th>\n",
       "      <th>BsmtFinSF1</th>\n",
       "      <th>BsmtFinSF2</th>\n",
       "      <th>...</th>\n",
       "      <th>WoodDeckSF</th>\n",
       "      <th>OpenPorchSF</th>\n",
       "      <th>EnclosedPorch</th>\n",
       "      <th>3SsnPorch</th>\n",
       "      <th>ScreenPorch</th>\n",
       "      <th>PoolArea</th>\n",
       "      <th>MiscVal</th>\n",
       "      <th>MoSold</th>\n",
       "      <th>YrSold</th>\n",
       "      <th>SalePrice</th>\n",
       "    </tr>\n",
       "  </thead>\n",
       "  <tbody>\n",
       "    <tr>\n",
       "      <th>count</th>\n",
       "      <td>3210.000000</td>\n",
       "      <td>2673.000000</td>\n",
       "      <td>3210.000000</td>\n",
       "      <td>3210.000000</td>\n",
       "      <td>3210.000000</td>\n",
       "      <td>3210.000000</td>\n",
       "      <td>3210.00000</td>\n",
       "      <td>3186.000000</td>\n",
       "      <td>3209.000000</td>\n",
       "      <td>3209.000000</td>\n",
       "      <td>...</td>\n",
       "      <td>3210.000000</td>\n",
       "      <td>3210.000000</td>\n",
       "      <td>3210.000000</td>\n",
       "      <td>3210.000000</td>\n",
       "      <td>3210.000000</td>\n",
       "      <td>3210.000000</td>\n",
       "      <td>3210.000000</td>\n",
       "      <td>3210.000000</td>\n",
       "      <td>3210.000000</td>\n",
       "      <td>1595.000000</td>\n",
       "    </tr>\n",
       "    <tr>\n",
       "      <th>mean</th>\n",
       "      <td>57.227414</td>\n",
       "      <td>69.344557</td>\n",
       "      <td>10151.471963</td>\n",
       "      <td>6.085670</td>\n",
       "      <td>5.564174</td>\n",
       "      <td>1971.130530</td>\n",
       "      <td>1984.22243</td>\n",
       "      <td>102.517891</td>\n",
       "      <td>443.111250</td>\n",
       "      <td>48.560922</td>\n",
       "      <td>...</td>\n",
       "      <td>93.931464</td>\n",
       "      <td>48.029595</td>\n",
       "      <td>23.068536</td>\n",
       "      <td>2.496262</td>\n",
       "      <td>16.363240</td>\n",
       "      <td>2.118692</td>\n",
       "      <td>49.679439</td>\n",
       "      <td>6.194704</td>\n",
       "      <td>2007.797508</td>\n",
       "      <td>181484.144201</td>\n",
       "    </tr>\n",
       "    <tr>\n",
       "      <th>std</th>\n",
       "      <td>42.584669</td>\n",
       "      <td>23.388332</td>\n",
       "      <td>7715.993940</td>\n",
       "      <td>1.408632</td>\n",
       "      <td>1.118595</td>\n",
       "      <td>30.367348</td>\n",
       "      <td>20.91334</td>\n",
       "      <td>179.280638</td>\n",
       "      <td>457.325094</td>\n",
       "      <td>168.217985</td>\n",
       "      <td>...</td>\n",
       "      <td>127.379180</td>\n",
       "      <td>68.937374</td>\n",
       "      <td>63.684142</td>\n",
       "      <td>24.602419</td>\n",
       "      <td>56.912518</td>\n",
       "      <td>34.247599</td>\n",
       "      <td>553.698169</td>\n",
       "      <td>2.717355</td>\n",
       "      <td>1.312307</td>\n",
       "      <td>79885.210537</td>\n",
       "    </tr>\n",
       "    <tr>\n",
       "      <th>min</th>\n",
       "      <td>20.000000</td>\n",
       "      <td>21.000000</td>\n",
       "      <td>1300.000000</td>\n",
       "      <td>1.000000</td>\n",
       "      <td>1.000000</td>\n",
       "      <td>1872.000000</td>\n",
       "      <td>1950.00000</td>\n",
       "      <td>0.000000</td>\n",
       "      <td>0.000000</td>\n",
       "      <td>0.000000</td>\n",
       "      <td>...</td>\n",
       "      <td>0.000000</td>\n",
       "      <td>0.000000</td>\n",
       "      <td>0.000000</td>\n",
       "      <td>0.000000</td>\n",
       "      <td>0.000000</td>\n",
       "      <td>0.000000</td>\n",
       "      <td>0.000000</td>\n",
       "      <td>1.000000</td>\n",
       "      <td>2006.000000</td>\n",
       "      <td>34900.000000</td>\n",
       "    </tr>\n",
       "    <tr>\n",
       "      <th>25%</th>\n",
       "      <td>20.000000</td>\n",
       "      <td>59.000000</td>\n",
       "      <td>7427.750000</td>\n",
       "      <td>5.000000</td>\n",
       "      <td>5.000000</td>\n",
       "      <td>1953.000000</td>\n",
       "      <td>1965.00000</td>\n",
       "      <td>0.000000</td>\n",
       "      <td>0.000000</td>\n",
       "      <td>0.000000</td>\n",
       "      <td>...</td>\n",
       "      <td>0.000000</td>\n",
       "      <td>0.000000</td>\n",
       "      <td>0.000000</td>\n",
       "      <td>0.000000</td>\n",
       "      <td>0.000000</td>\n",
       "      <td>0.000000</td>\n",
       "      <td>0.000000</td>\n",
       "      <td>4.000000</td>\n",
       "      <td>2007.000000</td>\n",
       "      <td>129900.000000</td>\n",
       "    </tr>\n",
       "    <tr>\n",
       "      <th>50%</th>\n",
       "      <td>50.000000</td>\n",
       "      <td>68.000000</td>\n",
       "      <td>9465.000000</td>\n",
       "      <td>6.000000</td>\n",
       "      <td>5.000000</td>\n",
       "      <td>1973.000000</td>\n",
       "      <td>1993.00000</td>\n",
       "      <td>0.000000</td>\n",
       "      <td>368.000000</td>\n",
       "      <td>0.000000</td>\n",
       "      <td>...</td>\n",
       "      <td>0.000000</td>\n",
       "      <td>26.000000</td>\n",
       "      <td>0.000000</td>\n",
       "      <td>0.000000</td>\n",
       "      <td>0.000000</td>\n",
       "      <td>0.000000</td>\n",
       "      <td>0.000000</td>\n",
       "      <td>6.000000</td>\n",
       "      <td>2008.000000</td>\n",
       "      <td>163900.000000</td>\n",
       "    </tr>\n",
       "    <tr>\n",
       "      <th>75%</th>\n",
       "      <td>70.000000</td>\n",
       "      <td>80.000000</td>\n",
       "      <td>11613.000000</td>\n",
       "      <td>7.000000</td>\n",
       "      <td>6.000000</td>\n",
       "      <td>2001.000000</td>\n",
       "      <td>2004.00000</td>\n",
       "      <td>165.000000</td>\n",
       "      <td>736.000000</td>\n",
       "      <td>0.000000</td>\n",
       "      <td>...</td>\n",
       "      <td>168.000000</td>\n",
       "      <td>70.000000</td>\n",
       "      <td>0.000000</td>\n",
       "      <td>0.000000</td>\n",
       "      <td>0.000000</td>\n",
       "      <td>0.000000</td>\n",
       "      <td>0.000000</td>\n",
       "      <td>8.000000</td>\n",
       "      <td>2009.000000</td>\n",
       "      <td>215000.000000</td>\n",
       "    </tr>\n",
       "    <tr>\n",
       "      <th>max</th>\n",
       "      <td>190.000000</td>\n",
       "      <td>313.000000</td>\n",
       "      <td>215245.000000</td>\n",
       "      <td>10.000000</td>\n",
       "      <td>9.000000</td>\n",
       "      <td>2010.000000</td>\n",
       "      <td>2010.00000</td>\n",
       "      <td>1600.000000</td>\n",
       "      <td>5644.000000</td>\n",
       "      <td>1526.000000</td>\n",
       "      <td>...</td>\n",
       "      <td>1424.000000</td>\n",
       "      <td>742.000000</td>\n",
       "      <td>1012.000000</td>\n",
       "      <td>508.000000</td>\n",
       "      <td>576.000000</td>\n",
       "      <td>800.000000</td>\n",
       "      <td>17000.000000</td>\n",
       "      <td>12.000000</td>\n",
       "      <td>2010.000000</td>\n",
       "      <td>755000.000000</td>\n",
       "    </tr>\n",
       "  </tbody>\n",
       "</table>\n",
       "<p>8 rows × 37 columns</p>\n",
       "</div>"
      ],
      "text/plain": [
       "        MSSubClass  LotFrontage        LotArea  OverallQual  OverallCond  \\\n",
       "count  3210.000000  2673.000000    3210.000000  3210.000000  3210.000000   \n",
       "mean     57.227414    69.344557   10151.471963     6.085670     5.564174   \n",
       "std      42.584669    23.388332    7715.993940     1.408632     1.118595   \n",
       "min      20.000000    21.000000    1300.000000     1.000000     1.000000   \n",
       "25%      20.000000    59.000000    7427.750000     5.000000     5.000000   \n",
       "50%      50.000000    68.000000    9465.000000     6.000000     5.000000   \n",
       "75%      70.000000    80.000000   11613.000000     7.000000     6.000000   \n",
       "max     190.000000   313.000000  215245.000000    10.000000     9.000000   \n",
       "\n",
       "         YearBuilt  YearRemodAdd   MasVnrArea   BsmtFinSF1   BsmtFinSF2  ...  \\\n",
       "count  3210.000000    3210.00000  3186.000000  3209.000000  3209.000000  ...   \n",
       "mean   1971.130530    1984.22243   102.517891   443.111250    48.560922  ...   \n",
       "std      30.367348      20.91334   179.280638   457.325094   168.217985  ...   \n",
       "min    1872.000000    1950.00000     0.000000     0.000000     0.000000  ...   \n",
       "25%    1953.000000    1965.00000     0.000000     0.000000     0.000000  ...   \n",
       "50%    1973.000000    1993.00000     0.000000   368.000000     0.000000  ...   \n",
       "75%    2001.000000    2004.00000   165.000000   736.000000     0.000000  ...   \n",
       "max    2010.000000    2010.00000  1600.000000  5644.000000  1526.000000  ...   \n",
       "\n",
       "        WoodDeckSF  OpenPorchSF  EnclosedPorch    3SsnPorch  ScreenPorch  \\\n",
       "count  3210.000000  3210.000000    3210.000000  3210.000000  3210.000000   \n",
       "mean     93.931464    48.029595      23.068536     2.496262    16.363240   \n",
       "std     127.379180    68.937374      63.684142    24.602419    56.912518   \n",
       "min       0.000000     0.000000       0.000000     0.000000     0.000000   \n",
       "25%       0.000000     0.000000       0.000000     0.000000     0.000000   \n",
       "50%       0.000000    26.000000       0.000000     0.000000     0.000000   \n",
       "75%     168.000000    70.000000       0.000000     0.000000     0.000000   \n",
       "max    1424.000000   742.000000    1012.000000   508.000000   576.000000   \n",
       "\n",
       "          PoolArea       MiscVal       MoSold       YrSold      SalePrice  \n",
       "count  3210.000000   3210.000000  3210.000000  3210.000000    1595.000000  \n",
       "mean      2.118692     49.679439     6.194704  2007.797508  181484.144201  \n",
       "std      34.247599    553.698169     2.717355     1.312307   79885.210537  \n",
       "min       0.000000      0.000000     1.000000  2006.000000   34900.000000  \n",
       "25%       0.000000      0.000000     4.000000  2007.000000  129900.000000  \n",
       "50%       0.000000      0.000000     6.000000  2008.000000  163900.000000  \n",
       "75%       0.000000      0.000000     8.000000  2009.000000  215000.000000  \n",
       "max     800.000000  17000.000000    12.000000  2010.000000  755000.000000  \n",
       "\n",
       "[8 rows x 37 columns]"
      ]
     },
     "execution_count": 5,
     "metadata": {},
     "output_type": "execute_result"
    }
   ],
   "source": [
    "df.describe()"
   ]
  },
  {
   "cell_type": "markdown",
   "metadata": {},
   "source": [
    "## 2.6 Selecionando Variáveis Numéricas"
   ]
  },
  {
   "cell_type": "code",
   "execution_count": 6,
   "metadata": {},
   "outputs": [],
   "source": [
    "numeric_df = df.select_dtypes(include=['int64', 'float64'])"
   ]
  },
  {
   "cell_type": "code",
   "execution_count": 7,
   "metadata": {},
   "outputs": [
    {
     "name": "stdout",
     "output_type": "stream",
     "text": [
      "<class 'pandas.core.frame.DataFrame'>\n",
      "RangeIndex: 3210 entries, 0 to 3209\n",
      "Data columns (total 37 columns):\n",
      " #   Column         Non-Null Count  Dtype  \n",
      "---  ------         --------------  -----  \n",
      " 0   MSSubClass     3210 non-null   int64  \n",
      " 1   LotFrontage    2673 non-null   float64\n",
      " 2   LotArea        3210 non-null   int64  \n",
      " 3   OverallQual    3210 non-null   int64  \n",
      " 4   OverallCond    3210 non-null   int64  \n",
      " 5   YearBuilt      3210 non-null   int64  \n",
      " 6   YearRemodAdd   3210 non-null   int64  \n",
      " 7   MasVnrArea     3186 non-null   float64\n",
      " 8   BsmtFinSF1     3209 non-null   float64\n",
      " 9   BsmtFinSF2     3209 non-null   float64\n",
      " 10  BsmtUnfSF      3209 non-null   float64\n",
      " 11  TotalBsmtSF    3209 non-null   float64\n",
      " 12  1stFlrSF       3210 non-null   int64  \n",
      " 13  2ndFlrSF       3210 non-null   int64  \n",
      " 14  LowQualFinSF   3210 non-null   int64  \n",
      " 15  GrLivArea      3210 non-null   int64  \n",
      " 16  BsmtFullBath   3208 non-null   float64\n",
      " 17  BsmtHalfBath   3208 non-null   float64\n",
      " 18  FullBath       3210 non-null   int64  \n",
      " 19  HalfBath       3210 non-null   int64  \n",
      " 20  BedroomAbvGr   3210 non-null   int64  \n",
      " 21  KitchenAbvGr   3210 non-null   int64  \n",
      " 22  TotRmsAbvGrd   3210 non-null   int64  \n",
      " 23  Fireplaces     3210 non-null   int64  \n",
      " 24  GarageYrBlt    3035 non-null   float64\n",
      " 25  GarageCars     3209 non-null   float64\n",
      " 26  GarageArea     3209 non-null   float64\n",
      " 27  WoodDeckSF     3210 non-null   int64  \n",
      " 28  OpenPorchSF    3210 non-null   int64  \n",
      " 29  EnclosedPorch  3210 non-null   int64  \n",
      " 30  3SsnPorch      3210 non-null   int64  \n",
      " 31  ScreenPorch    3210 non-null   int64  \n",
      " 32  PoolArea       3210 non-null   int64  \n",
      " 33  MiscVal        3210 non-null   int64  \n",
      " 34  MoSold         3210 non-null   int64  \n",
      " 35  YrSold         3210 non-null   int64  \n",
      " 36  SalePrice      1595 non-null   float64\n",
      "dtypes: float64(12), int64(25)\n",
      "memory usage: 928.0 KB\n"
     ]
    }
   ],
   "source": [
    "numeric_df.info()"
   ]
  },
  {
   "cell_type": "markdown",
   "metadata": {},
   "source": [
    "# 3 Identificação e Tratamento de Outliers"
   ]
  },
  {
   "cell_type": "markdown",
   "metadata": {},
   "source": [
    "## 3.1 Identificação de Outliers com Boxplot"
   ]
  },
  {
   "cell_type": "code",
   "execution_count": 8,
   "metadata": {},
   "outputs": [
    {
     "data": {
      "image/png": "[encoded data removed]",
      "text/plain": [
       "<Figure size 1200x600 with 1 Axes>"
      ]
     },
     "metadata": {},
     "output_type": "display_data"
    }
   ],
   "source": [
    "plt.figure(figsize=(12, 6))\n",
    "sns.boxplot(data=numeric_df, x='GrLivArea')\n",
    "plt.title('Boxplot de GrLivArea')\n",
    "plt.show()"
   ]
  },
  {
   "cell_type": "markdown",
   "metadata": {},
   "source": [
    "## 3.2 Remoção de Outliers"
   ]
  },
  {
   "cell_type": "code",
   "execution_count": 9,
   "metadata": {},
   "outputs": [],
   "source": [
    "# Definindo o limite superior como o percentil 99\n",
    "upper_limit = numeric_df['GrLivArea'].quantile(0.99)\n",
    "numeric_df_treated = numeric_df[numeric_df['GrLivArea'] < upper_limit]"
   ]
  },
  {
   "cell_type": "markdown",
   "metadata": {},
   "source": [
    "## 3.3 Visualização após Remoção de Outliers"
   ]
  },
  {
   "cell_type": "code",
   "execution_count": 10,
   "metadata": {},
   "outputs": [
    {
     "data": {
      "image/png": "[encoded data removed]",
      "text/plain": [
       "<Figure size 1200x600 with 1 Axes>"
      ]
     },
     "metadata": {},
     "output_type": "display_data"
    }
   ],
   "source": [
    "plt.figure(figsize=(12, 6))\n",
    "sns.boxplot(data=numeric_df_treated, x='GrLivArea')\n",
    "plt.title('Boxplot de GrLivArea (Tratado)')\n",
    "plt.show()"
   ]
  },
  {
   "cell_type": "markdown",
   "metadata": {},
   "source": [
    "# 4 Identificação e Remoção de Dados Duplicados"
   ]
  },
  {
   "cell_type": "markdown",
   "metadata": {},
   "source": [
    "## 4.1 Verificação de Duplicatas"
   ]
  },
  {
   "cell_type": "code",
   "execution_count": 11,
   "metadata": {},
   "outputs": [
    {
     "name": "stdout",
     "output_type": "stream",
     "text": [
      "Número de registros duplicados: 288\n"
     ]
    }
   ],
   "source": [
    "duplicates = numeric_df_treated.duplicated()\n",
    "num_duplicates = duplicates.sum()\n",
    "print(f\"Número de registros duplicados: {num_duplicates}\")"
   ]
  },
  {
   "cell_type": "markdown",
   "metadata": {},
   "source": [
    "## 4.2 Remoção de Duplicatas"
   ]
  },
  {
   "cell_type": "code",
   "execution_count": 12,
   "metadata": {},
   "outputs": [],
   "source": [
    "numeric_df_treated_wo_duplicates = numeric_df_treated.drop_duplicates()"
   ]
  },
  {
   "cell_type": "markdown",
   "metadata": {},
   "source": [
    "## 4.3 Verificação após Remoção"
   ]
  },
  {
   "cell_type": "code",
   "execution_count": 13,
   "metadata": {},
   "outputs": [
    {
     "name": "stdout",
     "output_type": "stream",
     "text": [
      "Número de registros duplicados após remoção: 0\n"
     ]
    }
   ],
   "source": [
    "duplicates_check = numeric_df_treated_wo_duplicates.duplicated()\n",
    "num_duplicates_check = duplicates_check.sum()\n",
    "print(f\"Número de registros duplicados após remoção: {num_duplicates_check}\")"
   ]
  },
  {
   "cell_type": "markdown",
   "metadata": {},
   "source": [
    "# 5 Imputação de dados faltantes"
   ]
  },
  {
   "cell_type": "markdown",
   "metadata": {},
   "source": [
    "## 5.1 Imputação dos valores faltantes com a média da coluna"
   ]
  },
  {
   "cell_type": "code",
   "execution_count": 14,
   "metadata": {},
   "outputs": [],
   "source": [
    "imputer = SimpleImputer(strategy='mean')\n",
    "df_imputed = pd.DataFrame(imputer.fit_transform(numeric_df_treated_wo_duplicates), columns=numeric_df_treated_wo_duplicates.columns)"
   ]
  },
  {
   "cell_type": "markdown",
   "metadata": {},
   "source": [
    "# 6 Normalização dos dados"
   ]
  },
  {
   "cell_type": "code",
   "execution_count": 15,
   "metadata": {},
   "outputs": [
    {
     "data": {
      "text/html": [
       "<div>\n",
       "<style scoped>\n",
       "    .dataframe tbody tr th:only-of-type {\n",
       "        vertical-align: middle;\n",
       "    }\n",
       "\n",
       "    .dataframe tbody tr th {\n",
       "        vertical-align: top;\n",
       "    }\n",
       "\n",
       "    .dataframe thead th {\n",
       "        text-align: right;\n",
       "    }\n",
       "</style>\n",
       "<table border=\"1\" class=\"dataframe\">\n",
       "  <thead>\n",
       "    <tr style=\"text-align: right;\">\n",
       "      <th></th>\n",
       "      <th>MSSubClass</th>\n",
       "      <th>LotFrontage</th>\n",
       "      <th>LotArea</th>\n",
       "      <th>OverallQual</th>\n",
       "      <th>OverallCond</th>\n",
       "      <th>YearBuilt</th>\n",
       "      <th>YearRemodAdd</th>\n",
       "      <th>MasVnrArea</th>\n",
       "      <th>BsmtFinSF1</th>\n",
       "      <th>BsmtFinSF2</th>\n",
       "      <th>...</th>\n",
       "      <th>WoodDeckSF</th>\n",
       "      <th>OpenPorchSF</th>\n",
       "      <th>EnclosedPorch</th>\n",
       "      <th>3SsnPorch</th>\n",
       "      <th>ScreenPorch</th>\n",
       "      <th>PoolArea</th>\n",
       "      <th>MiscVal</th>\n",
       "      <th>MoSold</th>\n",
       "      <th>YrSold</th>\n",
       "      <th>SalePrice</th>\n",
       "    </tr>\n",
       "  </thead>\n",
       "  <tbody>\n",
       "    <tr>\n",
       "      <th>0</th>\n",
       "      <td>0.235294</td>\n",
       "      <td>0.150685</td>\n",
       "      <td>0.033420</td>\n",
       "      <td>0.666667</td>\n",
       "      <td>0.500</td>\n",
       "      <td>0.949275</td>\n",
       "      <td>0.883333</td>\n",
       "      <td>0.12250</td>\n",
       "      <td>0.308566</td>\n",
       "      <td>0.0</td>\n",
       "      <td>...</td>\n",
       "      <td>0.000000</td>\n",
       "      <td>0.082210</td>\n",
       "      <td>0.000000</td>\n",
       "      <td>0.0</td>\n",
       "      <td>0.0</td>\n",
       "      <td>0.0</td>\n",
       "      <td>0.0</td>\n",
       "      <td>0.090909</td>\n",
       "      <td>0.50</td>\n",
       "      <td>0.300993</td>\n",
       "    </tr>\n",
       "    <tr>\n",
       "      <th>1</th>\n",
       "      <td>0.000000</td>\n",
       "      <td>0.202055</td>\n",
       "      <td>0.038795</td>\n",
       "      <td>0.555556</td>\n",
       "      <td>0.875</td>\n",
       "      <td>0.753623</td>\n",
       "      <td>0.433333</td>\n",
       "      <td>0.00000</td>\n",
       "      <td>0.427448</td>\n",
       "      <td>0.0</td>\n",
       "      <td>...</td>\n",
       "      <td>0.209270</td>\n",
       "      <td>0.000000</td>\n",
       "      <td>0.000000</td>\n",
       "      <td>0.0</td>\n",
       "      <td>0.0</td>\n",
       "      <td>0.0</td>\n",
       "      <td>0.0</td>\n",
       "      <td>0.363636</td>\n",
       "      <td>0.25</td>\n",
       "      <td>0.254180</td>\n",
       "    </tr>\n",
       "    <tr>\n",
       "      <th>2</th>\n",
       "      <td>0.235294</td>\n",
       "      <td>0.160959</td>\n",
       "      <td>0.046507</td>\n",
       "      <td>0.666667</td>\n",
       "      <td>0.500</td>\n",
       "      <td>0.934783</td>\n",
       "      <td>0.866667</td>\n",
       "      <td>0.10125</td>\n",
       "      <td>0.212413</td>\n",
       "      <td>0.0</td>\n",
       "      <td>...</td>\n",
       "      <td>0.000000</td>\n",
       "      <td>0.056604</td>\n",
       "      <td>0.000000</td>\n",
       "      <td>0.0</td>\n",
       "      <td>0.0</td>\n",
       "      <td>0.0</td>\n",
       "      <td>0.0</td>\n",
       "      <td>0.727273</td>\n",
       "      <td>0.50</td>\n",
       "      <td>0.327001</td>\n",
       "    </tr>\n",
       "    <tr>\n",
       "      <th>3</th>\n",
       "      <td>0.294118</td>\n",
       "      <td>0.133562</td>\n",
       "      <td>0.038561</td>\n",
       "      <td>0.666667</td>\n",
       "      <td>0.500</td>\n",
       "      <td>0.311594</td>\n",
       "      <td>0.333333</td>\n",
       "      <td>0.00000</td>\n",
       "      <td>0.094406</td>\n",
       "      <td>0.0</td>\n",
       "      <td>...</td>\n",
       "      <td>0.000000</td>\n",
       "      <td>0.047170</td>\n",
       "      <td>0.268775</td>\n",
       "      <td>0.0</td>\n",
       "      <td>0.0</td>\n",
       "      <td>0.0</td>\n",
       "      <td>0.0</td>\n",
       "      <td>0.090909</td>\n",
       "      <td>0.00</td>\n",
       "      <td>0.182226</td>\n",
       "    </tr>\n",
       "    <tr>\n",
       "      <th>4</th>\n",
       "      <td>0.235294</td>\n",
       "      <td>0.215753</td>\n",
       "      <td>0.060576</td>\n",
       "      <td>0.777778</td>\n",
       "      <td>0.500</td>\n",
       "      <td>0.927536</td>\n",
       "      <td>0.833333</td>\n",
       "      <td>0.21875</td>\n",
       "      <td>0.286276</td>\n",
       "      <td>0.0</td>\n",
       "      <td>...</td>\n",
       "      <td>0.134831</td>\n",
       "      <td>0.113208</td>\n",
       "      <td>0.000000</td>\n",
       "      <td>0.0</td>\n",
       "      <td>0.0</td>\n",
       "      <td>0.0</td>\n",
       "      <td>0.0</td>\n",
       "      <td>1.000000</td>\n",
       "      <td>0.50</td>\n",
       "      <td>0.372947</td>\n",
       "    </tr>\n",
       "  </tbody>\n",
       "</table>\n",
       "<p>5 rows × 37 columns</p>\n",
       "</div>"
      ],
      "text/plain": [
       "   MSSubClass  LotFrontage   LotArea  OverallQual  OverallCond  YearBuilt  \\\n",
       "0    0.235294     0.150685  0.033420     0.666667        0.500   0.949275   \n",
       "1    0.000000     0.202055  0.038795     0.555556        0.875   0.753623   \n",
       "2    0.235294     0.160959  0.046507     0.666667        0.500   0.934783   \n",
       "3    0.294118     0.133562  0.038561     0.666667        0.500   0.311594   \n",
       "4    0.235294     0.215753  0.060576     0.777778        0.500   0.927536   \n",
       "\n",
       "   YearRemodAdd  MasVnrArea  BsmtFinSF1  BsmtFinSF2  ...  WoodDeckSF  \\\n",
       "0      0.883333     0.12250    0.308566         0.0  ...    0.000000   \n",
       "1      0.433333     0.00000    0.427448         0.0  ...    0.209270   \n",
       "2      0.866667     0.10125    0.212413         0.0  ...    0.000000   \n",
       "3      0.333333     0.00000    0.094406         0.0  ...    0.000000   \n",
       "4      0.833333     0.21875    0.286276         0.0  ...    0.134831   \n",
       "\n",
       "   OpenPorchSF  EnclosedPorch  3SsnPorch  ScreenPorch  PoolArea  MiscVal  \\\n",
       "0     0.082210       0.000000        0.0          0.0       0.0      0.0   \n",
       "1     0.000000       0.000000        0.0          0.0       0.0      0.0   \n",
       "2     0.056604       0.000000        0.0          0.0       0.0      0.0   \n",
       "3     0.047170       0.268775        0.0          0.0       0.0      0.0   \n",
       "4     0.113208       0.000000        0.0          0.0       0.0      0.0   \n",
       "\n",
       "     MoSold  YrSold  SalePrice  \n",
       "0  0.090909    0.50   0.300993  \n",
       "1  0.363636    0.25   0.254180  \n",
       "2  0.727273    0.50   0.327001  \n",
       "3  0.090909    0.00   0.182226  \n",
       "4  1.000000    0.50   0.372947  \n",
       "\n",
       "[5 rows x 37 columns]"
      ]
     },
     "execution_count": 15,
     "metadata": {},
     "output_type": "execute_result"
    }
   ],
   "source": [
    "df_scaled = df_imputed.copy()\n",
    "\n",
    "scaler = MinMaxScaler()\n",
    "\n",
    "df_scaled = pd.DataFrame(scaler.fit_transform(df_scaled), columns=df_scaled.columns)\n",
    "\n",
    "df_scaled.head()\n"
   ]
  },
  {
   "cell_type": "markdown",
   "metadata": {},
   "source": [
    "# 7 Comparação dos Resultados de ML com Dados Brutos e Tratados"
   ]
  },
  {
   "cell_type": "markdown",
   "metadata": {},
   "source": [
    "## 7.1 Preparação dos Dados"
   ]
  },
  {
   "cell_type": "code",
   "execution_count": 16,
   "metadata": {},
   "outputs": [],
   "source": [
    "X_raw = df_imputed.drop('SalePrice', axis=1)\n",
    "y_raw = df_imputed['SalePrice'].loc[X_raw.index]\n",
    "\n",
    "X_treated = df_scaled.drop('SalePrice', axis=1)\n",
    "y_treated = df_scaled['SalePrice'].loc[X_treated.index]"
   ]
  },
  {
   "cell_type": "markdown",
   "metadata": {},
   "source": [
    "## 7.2 Divisão dos Dados em Treino e Teste"
   ]
  },
  {
   "cell_type": "code",
   "execution_count": 17,
   "metadata": {},
   "outputs": [],
   "source": [
    "X_train_raw, X_test_raw, y_train_raw, y_test_raw = train_test_split(X_raw, y_raw, test_size=0.2, random_state=42)\n",
    "X_train_treated, X_test_treated, y_train_treated, y_test_treated = train_test_split(X_treated, y_treated, test_size=0.2, random_state=42)"
   ]
  },
  {
   "cell_type": "markdown",
   "metadata": {},
   "source": [
    "# 7.3 Treinamento do Modelo com Dados Brutos"
   ]
  },
  {
   "cell_type": "code",
   "execution_count": 18,
   "metadata": {},
   "outputs": [],
   "source": [
    "model_raw = LinearRegression()\n",
    "model_raw.fit(X_train_raw, y_train_raw)\n",
    "predictions_raw = model_raw.predict(X_test_raw)"
   ]
  },
  {
   "cell_type": "markdown",
   "metadata": {},
   "source": [
    "## 7.4 Treinamento do Modelo com Dados Tratados"
   ]
  },
  {
   "cell_type": "code",
   "execution_count": 19,
   "metadata": {},
   "outputs": [],
   "source": [
    "model_treated = LinearRegression()\n",
    "model_treated.fit(X_train_treated, y_train_treated)\n",
    "predictions_treated = model_treated.predict(X_test_treated)"
   ]
  },
  {
   "cell_type": "markdown",
   "metadata": {},
   "source": [
    "## 7.5 Avaliação dos Resultados"
   ]
  },
  {
   "cell_type": "code",
   "execution_count": 20,
   "metadata": {},
   "outputs": [
    {
     "name": "stdout",
     "output_type": "stream",
     "text": [
      "MSE com dados brutos: 1687792353.1758497\n",
      "MSE com dados tratados: 0.005073569613222351\n",
      "Diferença percentual: 100.00%\n"
     ]
    }
   ],
   "source": [
    "# Exemplo de valores para mse_raw e mse_treated\n",
    "mse_raw = mean_squared_error(y_test_raw, predictions_raw)\n",
    "mse_treated = mean_squared_error(y_test_treated, predictions_treated)\n",
    "\n",
    "# Calculando a diferença percentual\n",
    "percentual_difference = ((mse_raw - mse_treated) / mse_raw) * 100\n",
    "\n",
    "# Imprimindo os resultados\n",
    "print(f\"MSE com dados brutos: {mse_raw}\")\n",
    "print(f\"MSE com dados tratados: {mse_treated}\")\n",
    "print(f\"Diferença percentual: {percentual_difference:.2f}%\")"
   ]
  },
  {
   "cell_type": "code",
   "execution_count": 21,
   "metadata": {},
   "outputs": [
    {
     "name": "stdout",
     "output_type": "stream",
     "text": [
      "R^2 com dados brutos: 0.38\n",
      "R^2 com dados tratados: 0.38\n",
      "Diferença percentual: -0.01%\n"
     ]
    }
   ],
   "source": [
    "# Exemplo de valores para y_test_raw, predictions_raw, y_test_treated e predictions_treated\n",
    "\n",
    "# Calculando o R^2 para dados brutos e tratados\n",
    "r2_raw = r2_score(y_test_raw, predictions_raw)\n",
    "r2_treated = r2_score(y_test_treated, predictions_treated)\n",
    "\n",
    "# Calculando a diferença percentual\n",
    "percentual_difference = ((r2_raw - r2_treated) / r2_raw) * 100\n",
    "\n",
    "# Imprimindo os resultados\n",
    "print(f\"R^2 com dados brutos: {r2_raw:.2f}\")\n",
    "print(f\"R^2 com dados tratados: {r2_treated:.2f}\")\n",
    "print(f\"Diferença percentual: {percentual_difference:.2f}%\")"
   ]
  },
  {
   "cell_type": "markdown",
   "metadata": {},
   "source": [
    "## 5.6 Visualização dos Resultados"
   ]
  },
  {
   "cell_type": "code",
   "execution_count": 22,
   "metadata": {},
   "outputs": [
    {
     "data": {
      "image/png": "[encoded data removed]",
      "text/plain": [
       "<Figure size 1400x700 with 2 Axes>"
      ]
     },
     "metadata": {},
     "output_type": "display_data"
    }
   ],
   "source": [
    "plt.figure(figsize=(14, 7))\n",
    "plt.subplot(1, 2, 1)\n",
    "plt.scatter(y_test_raw, predictions_raw)\n",
    "plt.title('Dados Brutos')\n",
    "plt.xlabel('Valores Reais')\n",
    "plt.ylabel('Predições')\n",
    "\n",
    "plt.subplot(1, 2, 2)\n",
    "plt.scatter(y_test_treated, predictions_treated)\n",
    "plt.title('Dados Tratados')\n",
    "plt.xlabel('Valores Reais')\n",
    "plt.ylabel('Predições')\n",
    "\n",
    "plt.tight_layout()\n",
    "plt.show()"
   ]
  },
  {
   "cell_type": "code",
   "execution_count": null,
   "metadata": {},
   "outputs": [],
   "source": []
  }
 ],
 "metadata": {
  "kernelspec": {
   "display_name": "venv",
   "language": "python",
   "name": "python3"
  },
  "language_info": {
   "codemirror_mode": {
    "name": "ipython",
    "version": 3
   },
   "file_extension": ".py",
   "mimetype": "text/x-python",
   "name": "python",
   "nbconvert_exporter": "python",
   "pygments_lexer": "ipython3",
   "version": "3.12.4"
  }
 },
 "nbformat": 4,
 "nbformat_minor": 2
}
