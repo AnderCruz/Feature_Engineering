{
 "cells": [
  {
   "cell_type": "markdown",
   "metadata": {},
   "source": [
    "# Pré-processamento de dados: limpeza, normalização e transformação"
   ]
  },
  {
   "cell_type": "markdown",
   "metadata": {},
   "source": [
    "# 1 Importação das bibliotecas necessárias"
   ]
  },
  {
   "cell_type": "code",
   "execution_count": 1,
   "metadata": {},
   "outputs": [],
   "source": [
    "import pandas as pd\n",
    "import numpy as np\n",
    "from sklearn.model_selection import train_test_split\n",
    "from sklearn.preprocessing import StandardScaler\n",
    "from sklearn.impute import SimpleImputer\n",
    "from sklearn.linear_model import LogisticRegression\n",
    "from sklearn.metrics import accuracy_score, confusion_matrix\n",
    "import matplotlib.pyplot as plt\n",
    "import seaborn as sns"
   ]
  },
  {
   "cell_type": "markdown",
   "metadata": {},
   "source": [
    "# 2 Carregamento do dataset"
   ]
  },
  {
   "cell_type": "markdown",
   "metadata": {},
   "source": [
    "O dataset \"Heart Disease\" contém informações médicas de pacientes, coletadas para estudar a presença de doenças cardíacas. Ele possui 14 atributos, que são:\n",
    "\n",
    "- Principais Características do Dataset:\n",
    "    - age: Idade\n",
    "    - sex: Sexo (1 = masculino, 0 = feminino)\n",
    "    - cp: Tipo de dor no peito (1 a 4)\n",
    "    - trestbps: Pressão arterial em repouso\n",
    "    - chol: Colesterol sérico em mg/dl\n",
    "    - fbs: Açúcar no sangue em jejum (1 = verdadeiro, 0 = falso)\n",
    "    - restecg: Resultados do eletrocardiograma em repouso (0 a 2)\n",
    "    - thalach: Frequência cardíaca máxima atingida\n",
    "    - exang: Angina induzida por exercício (1 = sim, 0 = não)\n",
    "    - oldpeak: Depressão do segmento ST induzida por exercício em relação ao repouso\n",
    "    - slope: Inclinação do segmento ST no pico do exercício (1 a 3)\n",
    "    - ca: Número de vasos principais (0-3) coloridos por fluoroscopia\n",
    "    - thal: Talassemia (3 = normal, 6 = fixo, 7 = reversível)\n",
    "    - target: Diagnóstico de doença cardíaca (0 = ausência, 1 a 4 = presença)\n",
    "\n",
    "- Importância das Variáveis:\n",
    "    - age: A idade é um fator de risco importante para doenças cardíacas.\n",
    "    - sex: O sexo pode influenciar a probabilidade de doenças cardíacas.\n",
    "    - cp: O tipo de dor no peito fornece informações sobre possíveis condições cardíacas.\n",
    "    - trestbps: A pressão arterial elevada pode estar associada a doenças cardíacas.\n",
    "    - chol: Níveis altos de colesterol estão relacionados a um maior risco de doenças cardíacas.\n",
    "    - fbs: A presença de açúcar no sangue em jejum é um fator de risco para doenças cardíacas.\n",
    "    - restecg: Anomalidades no eletrocardiograma em repouso podem indicar problemas cardíacos.\n",
    "    - thalach: Uma frequência cardíaca máxima baixa pode estar associada a problemas cardíacos.\n",
    "    - exang: A angina induzida por exercício pode ser um sinal de doença cardíaca.\n",
    "    - oldpeak: A depressão do segmento ST pode indicar isquemia cardíaca.\n",
    "    - slope: A inclinação do segmento ST pode fornecer informações adicionais sobre a gravidade da doença.\n",
    "    - ca: O número de vasos coloridos pode indicar a presença de doença arterial coronariana.\n",
    "    - thal: Diferentes tipos de talassemia podem influenciar o risco de doenças cardíacas.\n",
    "    - target: A variável alvo indica a presença ou ausência de doenças cardíacas e é a principal variável para predição.\n",
    "\n",
    "- Fonte do Dataset\n",
    "    - O dataset está originalmente disponível em: UCI Machine Learning Repository\n",
    "    - Para carregar o dataset em um DataFrame do pandas:\n",
    "\n",
    "        import pandas as pd\n",
    "\n",
    "        url = 'https://archive.ics.uci.edu/ml/machine-learning-databases/heart-disease/processed.cleveland.data'\n",
    "\n",
    "        df = pd.read_csv(url, delimiter=';')"
   ]
  },
  {
   "cell_type": "code",
   "execution_count": 2,
   "metadata": {},
   "outputs": [],
   "source": [
    "df = pd.read_csv('datasets/processed_cleveland_data.csv', delimiter=\",\")"
   ]
  },
  {
   "cell_type": "markdown",
   "metadata": {},
   "source": [
    "# 3 Análise inicial do dataset"
   ]
  },
  {
   "cell_type": "markdown",
   "metadata": {},
   "source": [
    "## 3.1 Primeiras linhas do dataset"
   ]
  },
  {
   "cell_type": "code",
   "execution_count": 3,
   "metadata": {},
   "outputs": [
    {
     "data": {
      "text/html": [
       "<div>\n",
       "<style scoped>\n",
       "    .dataframe tbody tr th:only-of-type {\n",
       "        vertical-align: middle;\n",
       "    }\n",
       "\n",
       "    .dataframe tbody tr th {\n",
       "        vertical-align: top;\n",
       "    }\n",
       "\n",
       "    .dataframe thead th {\n",
       "        text-align: right;\n",
       "    }\n",
       "</style>\n",
       "<table border=\"1\" class=\"dataframe\">\n",
       "  <thead>\n",
       "    <tr style=\"text-align: right;\">\n",
       "      <th></th>\n",
       "      <th>age</th>\n",
       "      <th>sex</th>\n",
       "      <th>cp</th>\n",
       "      <th>trestbps</th>\n",
       "      <th>chol</th>\n",
       "      <th>fbs</th>\n",
       "      <th>restecg</th>\n",
       "      <th>thalach</th>\n",
       "      <th>exang</th>\n",
       "      <th>oldpeak</th>\n",
       "      <th>slope</th>\n",
       "      <th>ca</th>\n",
       "      <th>thal</th>\n",
       "      <th>target</th>\n",
       "    </tr>\n",
       "  </thead>\n",
       "  <tbody>\n",
       "    <tr>\n",
       "      <th>0</th>\n",
       "      <td>63.0</td>\n",
       "      <td>1.0</td>\n",
       "      <td>?</td>\n",
       "      <td>145.0</td>\n",
       "      <td>233.0</td>\n",
       "      <td>1.0</td>\n",
       "      <td>2.0</td>\n",
       "      <td>150.0</td>\n",
       "      <td>0.0</td>\n",
       "      <td>?</td>\n",
       "      <td>3.0</td>\n",
       "      <td>0.0</td>\n",
       "      <td>6.0</td>\n",
       "      <td>0</td>\n",
       "    </tr>\n",
       "    <tr>\n",
       "      <th>1</th>\n",
       "      <td>67.0</td>\n",
       "      <td>?</td>\n",
       "      <td>4.0</td>\n",
       "      <td>160.0</td>\n",
       "      <td>286.0</td>\n",
       "      <td>0.0</td>\n",
       "      <td>2.0</td>\n",
       "      <td>108.0</td>\n",
       "      <td>1.0</td>\n",
       "      <td>1.5</td>\n",
       "      <td>2.0</td>\n",
       "      <td>3.0</td>\n",
       "      <td>3.0</td>\n",
       "      <td>2</td>\n",
       "    </tr>\n",
       "    <tr>\n",
       "      <th>2</th>\n",
       "      <td>67.0</td>\n",
       "      <td>1.0</td>\n",
       "      <td>4.0</td>\n",
       "      <td>120.0</td>\n",
       "      <td>?</td>\n",
       "      <td>0.0</td>\n",
       "      <td>2.0</td>\n",
       "      <td>129.0</td>\n",
       "      <td>?</td>\n",
       "      <td>2.6</td>\n",
       "      <td>2.0</td>\n",
       "      <td>2.0</td>\n",
       "      <td>7.0</td>\n",
       "      <td>1</td>\n",
       "    </tr>\n",
       "    <tr>\n",
       "      <th>3</th>\n",
       "      <td>37.0</td>\n",
       "      <td>1.0</td>\n",
       "      <td>3.0</td>\n",
       "      <td>130.0</td>\n",
       "      <td>250.0</td>\n",
       "      <td>0.0</td>\n",
       "      <td>0.0</td>\n",
       "      <td>187.0</td>\n",
       "      <td>0.0</td>\n",
       "      <td>3.5</td>\n",
       "      <td>3.0</td>\n",
       "      <td>0.0</td>\n",
       "      <td>3.0</td>\n",
       "      <td>0</td>\n",
       "    </tr>\n",
       "    <tr>\n",
       "      <th>4</th>\n",
       "      <td>41.0</td>\n",
       "      <td>0.0</td>\n",
       "      <td>2.0</td>\n",
       "      <td>130.0</td>\n",
       "      <td>?</td>\n",
       "      <td>?</td>\n",
       "      <td>2.0</td>\n",
       "      <td>172.0</td>\n",
       "      <td>0.0</td>\n",
       "      <td>1.4</td>\n",
       "      <td>1.0</td>\n",
       "      <td>0.0</td>\n",
       "      <td>3.0</td>\n",
       "      <td>0</td>\n",
       "    </tr>\n",
       "  </tbody>\n",
       "</table>\n",
       "</div>"
      ],
      "text/plain": [
       "    age  sex   cp trestbps   chol  fbs restecg thalach exang oldpeak slope  \\\n",
       "0  63.0  1.0    ?    145.0  233.0  1.0     2.0   150.0   0.0       ?   3.0   \n",
       "1  67.0    ?  4.0    160.0  286.0  0.0     2.0   108.0   1.0     1.5   2.0   \n",
       "2  67.0  1.0  4.0    120.0      ?  0.0     2.0   129.0     ?     2.6   2.0   \n",
       "3  37.0  1.0  3.0    130.0  250.0  0.0     0.0   187.0   0.0     3.5   3.0   \n",
       "4  41.0  0.0  2.0    130.0      ?    ?     2.0   172.0   0.0     1.4   1.0   \n",
       "\n",
       "    ca thal  target  \n",
       "0  0.0  6.0       0  \n",
       "1  3.0  3.0       2  \n",
       "2  2.0  7.0       1  \n",
       "3  0.0  3.0       0  \n",
       "4  0.0  3.0       0  "
      ]
     },
     "execution_count": 3,
     "metadata": {},
     "output_type": "execute_result"
    }
   ],
   "source": [
    "df.head()"
   ]
  },
  {
   "cell_type": "markdown",
   "metadata": {},
   "source": [
    "## 3.2 Informações do dataset"
   ]
  },
  {
   "cell_type": "code",
   "execution_count": 4,
   "metadata": {},
   "outputs": [
    {
     "name": "stdout",
     "output_type": "stream",
     "text": [
      "<class 'pandas.core.frame.DataFrame'>\n",
      "RangeIndex: 303 entries, 0 to 302\n",
      "Data columns (total 14 columns):\n",
      " #   Column    Non-Null Count  Dtype \n",
      "---  ------    --------------  ----- \n",
      " 0   age       303 non-null    object\n",
      " 1   sex       303 non-null    object\n",
      " 2   cp        303 non-null    object\n",
      " 3   trestbps  303 non-null    object\n",
      " 4   chol      303 non-null    object\n",
      " 5   fbs       303 non-null    object\n",
      " 6   restecg   303 non-null    object\n",
      " 7   thalach   303 non-null    object\n",
      " 8   exang     303 non-null    object\n",
      " 9   oldpeak   303 non-null    object\n",
      " 10  slope     303 non-null    object\n",
      " 11  ca        299 non-null    object\n",
      " 12  thal      301 non-null    object\n",
      " 13  target    303 non-null    int64 \n",
      "dtypes: int64(1), object(13)\n",
      "memory usage: 33.3+ KB\n"
     ]
    }
   ],
   "source": [
    "df.info()"
   ]
  },
  {
   "cell_type": "markdown",
   "metadata": {},
   "source": [
    "## 3.3 Estatísticas descritivas do dataset"
   ]
  },
  {
   "cell_type": "code",
   "execution_count": 5,
   "metadata": {},
   "outputs": [
    {
     "data": {
      "text/html": [
       "<div>\n",
       "<style scoped>\n",
       "    .dataframe tbody tr th:only-of-type {\n",
       "        vertical-align: middle;\n",
       "    }\n",
       "\n",
       "    .dataframe tbody tr th {\n",
       "        vertical-align: top;\n",
       "    }\n",
       "\n",
       "    .dataframe thead th {\n",
       "        text-align: right;\n",
       "    }\n",
       "</style>\n",
       "<table border=\"1\" class=\"dataframe\">\n",
       "  <thead>\n",
       "    <tr style=\"text-align: right;\">\n",
       "      <th></th>\n",
       "      <th>target</th>\n",
       "    </tr>\n",
       "  </thead>\n",
       "  <tbody>\n",
       "    <tr>\n",
       "      <th>count</th>\n",
       "      <td>303.000000</td>\n",
       "    </tr>\n",
       "    <tr>\n",
       "      <th>mean</th>\n",
       "      <td>0.937294</td>\n",
       "    </tr>\n",
       "    <tr>\n",
       "      <th>std</th>\n",
       "      <td>1.228536</td>\n",
       "    </tr>\n",
       "    <tr>\n",
       "      <th>min</th>\n",
       "      <td>0.000000</td>\n",
       "    </tr>\n",
       "    <tr>\n",
       "      <th>25%</th>\n",
       "      <td>0.000000</td>\n",
       "    </tr>\n",
       "    <tr>\n",
       "      <th>50%</th>\n",
       "      <td>0.000000</td>\n",
       "    </tr>\n",
       "    <tr>\n",
       "      <th>75%</th>\n",
       "      <td>2.000000</td>\n",
       "    </tr>\n",
       "    <tr>\n",
       "      <th>max</th>\n",
       "      <td>4.000000</td>\n",
       "    </tr>\n",
       "  </tbody>\n",
       "</table>\n",
       "</div>"
      ],
      "text/plain": [
       "           target\n",
       "count  303.000000\n",
       "mean     0.937294\n",
       "std      1.228536\n",
       "min      0.000000\n",
       "25%      0.000000\n",
       "50%      0.000000\n",
       "75%      2.000000\n",
       "max      4.000000"
      ]
     },
     "execution_count": 5,
     "metadata": {},
     "output_type": "execute_result"
    }
   ],
   "source": [
    "df.describe()"
   ]
  },
  {
   "cell_type": "markdown",
   "metadata": {},
   "source": [
    "# 4 Limpeza de dados"
   ]
  },
  {
   "cell_type": "markdown",
   "metadata": {},
   "source": [
    "## 4.1 Substituição dos valores faltantes (representados por '?')"
   ]
  },
  {
   "cell_type": "code",
   "execution_count": 6,
   "metadata": {},
   "outputs": [],
   "source": [
    "df.replace('?', np.nan, inplace=True)\n",
    "df = df.apply(pd.to_numeric)"
   ]
  },
  {
   "cell_type": "markdown",
   "metadata": {},
   "source": [
    "## 4.2 Imputação dos valores faltantes com a média da coluna"
   ]
  },
  {
   "cell_type": "code",
   "execution_count": 7,
   "metadata": {},
   "outputs": [],
   "source": [
    "imputer = SimpleImputer(strategy='mean')\n",
    "df_imputed = pd.DataFrame(imputer.fit_transform(df), columns=df.columns)"
   ]
  },
  {
   "cell_type": "markdown",
   "metadata": {},
   "source": [
    "## 4.3 Dataset após imputação de valores faltantes"
   ]
  },
  {
   "cell_type": "code",
   "execution_count": 8,
   "metadata": {},
   "outputs": [
    {
     "name": "stdout",
     "output_type": "stream",
     "text": [
      "<class 'pandas.core.frame.DataFrame'>\n",
      "RangeIndex: 303 entries, 0 to 302\n",
      "Data columns (total 14 columns):\n",
      " #   Column    Non-Null Count  Dtype  \n",
      "---  ------    --------------  -----  \n",
      " 0   age       303 non-null    float64\n",
      " 1   sex       303 non-null    float64\n",
      " 2   cp        303 non-null    float64\n",
      " 3   trestbps  303 non-null    float64\n",
      " 4   chol      303 non-null    float64\n",
      " 5   fbs       303 non-null    float64\n",
      " 6   restecg   303 non-null    float64\n",
      " 7   thalach   303 non-null    float64\n",
      " 8   exang     303 non-null    float64\n",
      " 9   oldpeak   303 non-null    float64\n",
      " 10  slope     303 non-null    float64\n",
      " 11  ca        303 non-null    float64\n",
      " 12  thal      303 non-null    float64\n",
      " 13  target    303 non-null    float64\n",
      "dtypes: float64(14)\n",
      "memory usage: 33.3 KB\n"
     ]
    }
   ],
   "source": [
    "df_imputed.info()"
   ]
  },
  {
   "cell_type": "markdown",
   "metadata": {},
   "source": [
    "# 5 Normalização dos dados"
   ]
  },
  {
   "cell_type": "code",
   "execution_count": 9,
   "metadata": {},
   "outputs": [],
   "source": [
    "# Separar a coluna target\n",
    "target = df_imputed['target']\n",
    "features = df_imputed.drop(columns=['target'])\n",
    "\n",
    "# Escalar as features\n",
    "scaler = StandardScaler()\n",
    "scaled_features = scaler.fit_transform(features)\n",
    "\n",
    "# Criar um DataFrame com as features escalonadas\n",
    "df_scaled_features = pd.DataFrame(scaled_features, columns=features.columns)\n",
    "\n",
    "# Adicionar a coluna target de volta ao DataFrame\n",
    "df_scaled = pd.concat([df_scaled_features, target.reset_index(drop=True)], axis=1)"
   ]
  },
  {
   "cell_type": "markdown",
   "metadata": {},
   "source": [
    "## 5.1 Dataset após normalização"
   ]
  },
  {
   "cell_type": "code",
   "execution_count": 10,
   "metadata": {},
   "outputs": [
    {
     "data": {
      "text/html": [
       "<div>\n",
       "<style scoped>\n",
       "    .dataframe tbody tr th:only-of-type {\n",
       "        vertical-align: middle;\n",
       "    }\n",
       "\n",
       "    .dataframe tbody tr th {\n",
       "        vertical-align: top;\n",
       "    }\n",
       "\n",
       "    .dataframe thead th {\n",
       "        text-align: right;\n",
       "    }\n",
       "</style>\n",
       "<table border=\"1\" class=\"dataframe\">\n",
       "  <thead>\n",
       "    <tr style=\"text-align: right;\">\n",
       "      <th></th>\n",
       "      <th>age</th>\n",
       "      <th>sex</th>\n",
       "      <th>cp</th>\n",
       "      <th>trestbps</th>\n",
       "      <th>chol</th>\n",
       "      <th>fbs</th>\n",
       "      <th>restecg</th>\n",
       "      <th>thalach</th>\n",
       "      <th>exang</th>\n",
       "      <th>oldpeak</th>\n",
       "      <th>slope</th>\n",
       "      <th>ca</th>\n",
       "      <th>thal</th>\n",
       "      <th>target</th>\n",
       "    </tr>\n",
       "  </thead>\n",
       "  <tbody>\n",
       "    <tr>\n",
       "      <th>0</th>\n",
       "      <td>1.004174</td>\n",
       "      <td>0.726600</td>\n",
       "      <td>0.000000</td>\n",
       "      <td>0.797606</td>\n",
       "      <td>-0.293851</td>\n",
       "      <td>2.436518e+00</td>\n",
       "      <td>1.088894</td>\n",
       "      <td>0.011867</td>\n",
       "      <td>-7.266001e-01</td>\n",
       "      <td>-2.002690e-16</td>\n",
       "      <td>2.367672</td>\n",
       "      <td>-0.763692</td>\n",
       "      <td>0.680971</td>\n",
       "      <td>0.0</td>\n",
       "    </tr>\n",
       "    <tr>\n",
       "      <th>1</th>\n",
       "      <td>1.478258</td>\n",
       "      <td>0.000000</td>\n",
       "      <td>0.941535</td>\n",
       "      <td>1.699621</td>\n",
       "      <td>0.782809</td>\n",
       "      <td>-4.555230e-01</td>\n",
       "      <td>1.088894</td>\n",
       "      <td>-1.960125</td>\n",
       "      <td>1.527512e+00</td>\n",
       "      <td>4.238747e-01</td>\n",
       "      <td>0.671151</td>\n",
       "      <td>2.641276</td>\n",
       "      <td>-0.956986</td>\n",
       "      <td>2.0</td>\n",
       "    </tr>\n",
       "    <tr>\n",
       "      <th>2</th>\n",
       "      <td>1.478258</td>\n",
       "      <td>0.726600</td>\n",
       "      <td>0.941535</td>\n",
       "      <td>-0.705753</td>\n",
       "      <td>0.000000</td>\n",
       "      <td>-4.555230e-01</td>\n",
       "      <td>1.088894</td>\n",
       "      <td>-0.974129</td>\n",
       "      <td>1.251283e-16</td>\n",
       "      <td>1.415999e+00</td>\n",
       "      <td>0.671151</td>\n",
       "      <td>1.506287</td>\n",
       "      <td>1.226957</td>\n",
       "      <td>1.0</td>\n",
       "    </tr>\n",
       "    <tr>\n",
       "      <th>3</th>\n",
       "      <td>-2.077376</td>\n",
       "      <td>0.726600</td>\n",
       "      <td>-0.166392</td>\n",
       "      <td>-0.104409</td>\n",
       "      <td>0.051493</td>\n",
       "      <td>-4.555230e-01</td>\n",
       "      <td>-1.034449</td>\n",
       "      <td>1.749098</td>\n",
       "      <td>-7.266001e-01</td>\n",
       "      <td>2.227738e+00</td>\n",
       "      <td>2.367672</td>\n",
       "      <td>-0.763692</td>\n",
       "      <td>-0.956986</td>\n",
       "      <td>0.0</td>\n",
       "    </tr>\n",
       "    <tr>\n",
       "      <th>4</th>\n",
       "      <td>-1.603291</td>\n",
       "      <td>-1.527512</td>\n",
       "      <td>-1.274320</td>\n",
       "      <td>-0.104409</td>\n",
       "      <td>0.000000</td>\n",
       "      <td>8.027027e-17</td>\n",
       "      <td>1.088894</td>\n",
       "      <td>1.044815</td>\n",
       "      <td>-7.266001e-01</td>\n",
       "      <td>3.336816e-01</td>\n",
       "      <td>-1.025370</td>\n",
       "      <td>-0.763692</td>\n",
       "      <td>-0.956986</td>\n",
       "      <td>0.0</td>\n",
       "    </tr>\n",
       "  </tbody>\n",
       "</table>\n",
       "</div>"
      ],
      "text/plain": [
       "        age       sex        cp  trestbps      chol           fbs   restecg  \\\n",
       "0  1.004174  0.726600  0.000000  0.797606 -0.293851  2.436518e+00  1.088894   \n",
       "1  1.478258  0.000000  0.941535  1.699621  0.782809 -4.555230e-01  1.088894   \n",
       "2  1.478258  0.726600  0.941535 -0.705753  0.000000 -4.555230e-01  1.088894   \n",
       "3 -2.077376  0.726600 -0.166392 -0.104409  0.051493 -4.555230e-01 -1.034449   \n",
       "4 -1.603291 -1.527512 -1.274320 -0.104409  0.000000  8.027027e-17  1.088894   \n",
       "\n",
       "    thalach         exang       oldpeak     slope        ca      thal  target  \n",
       "0  0.011867 -7.266001e-01 -2.002690e-16  2.367672 -0.763692  0.680971     0.0  \n",
       "1 -1.960125  1.527512e+00  4.238747e-01  0.671151  2.641276 -0.956986     2.0  \n",
       "2 -0.974129  1.251283e-16  1.415999e+00  0.671151  1.506287  1.226957     1.0  \n",
       "3  1.749098 -7.266001e-01  2.227738e+00  2.367672 -0.763692 -0.956986     0.0  \n",
       "4  1.044815 -7.266001e-01  3.336816e-01 -1.025370 -0.763692 -0.956986     0.0  "
      ]
     },
     "execution_count": 10,
     "metadata": {},
     "output_type": "execute_result"
    }
   ],
   "source": [
    "df_scaled.head()"
   ]
  },
  {
   "cell_type": "markdown",
   "metadata": {},
   "source": [
    "# Machine Learning Section"
   ]
  },
  {
   "cell_type": "markdown",
   "metadata": {},
   "source": [
    "# 6 Separação dos dados brutos em treino e teste"
   ]
  },
  {
   "cell_type": "code",
   "execution_count": 11,
   "metadata": {},
   "outputs": [],
   "source": [
    "X_raw = df_imputed.drop('target', axis=1)\n",
    "y_raw = df_imputed['target']\n",
    "X_raw_train, X_raw_test, y_raw_train, y_raw_test = train_test_split(X_raw, y_raw, test_size=0.2, random_state=42)"
   ]
  },
  {
   "cell_type": "markdown",
   "metadata": {},
   "source": [
    "# 7 Modelo de Machine Learning com dados brutos"
   ]
  },
  {
   "cell_type": "markdown",
   "metadata": {},
   "source": [
    "## 7.1 Treinamento com dados brutos"
   ]
  },
  {
   "cell_type": "code",
   "execution_count": 12,
   "metadata": {},
   "outputs": [
    {
     "name": "stderr",
     "output_type": "stream",
     "text": [
      "c:\\Users\\filip\\GitHub\\FIAP-Feature-Engineering\\venv\\Lib\\site-packages\\sklearn\\linear_model\\_logistic.py:469: ConvergenceWarning: lbfgs failed to converge (status=1):\n",
      "STOP: TOTAL NO. of ITERATIONS REACHED LIMIT.\n",
      "\n",
      "Increase the number of iterations (max_iter) or scale the data as shown in:\n",
      "    https://scikit-learn.org/stable/modules/preprocessing.html\n",
      "Please also refer to the documentation for alternative solver options:\n",
      "    https://scikit-learn.org/stable/modules/linear_model.html#logistic-regression\n",
      "  n_iter_i = _check_optimize_result(\n"
     ]
    }
   ],
   "source": [
    "model_raw = LogisticRegression(random_state=42)\n",
    "model_raw.fit(X_raw_train, y_raw_train)\n",
    "y_pred_raw = model_raw.predict(X_raw_test)"
   ]
  },
  {
   "cell_type": "markdown",
   "metadata": {},
   "source": [
    "## 7.2 Métricas de desempenho"
   ]
  },
  {
   "cell_type": "code",
   "execution_count": 13,
   "metadata": {},
   "outputs": [],
   "source": [
    "accuracy_raw = accuracy_score(y_raw_test, y_pred_raw)\n",
    "conf_matrix_raw = confusion_matrix(y_raw_test, y_pred_raw)"
   ]
  },
  {
   "cell_type": "code",
   "execution_count": 14,
   "metadata": {},
   "outputs": [
    {
     "name": "stdout",
     "output_type": "stream",
     "text": [
      "Acurácia do modelo com dados brutos: 0.5573770491803278\n"
     ]
    }
   ],
   "source": [
    "print(\"Acurácia do modelo com dados brutos:\", accuracy_raw)"
   ]
  },
  {
   "cell_type": "code",
   "execution_count": 15,
   "metadata": {},
   "outputs": [
    {
     "name": "stdout",
     "output_type": "stream",
     "text": [
      "Matriz de confusão do modelo com dados brutos:\n",
      "[[27  0  2  0  0]\n",
      " [ 6  3  0  3  0]\n",
      " [ 2  2  1  4  0]\n",
      " [ 1  2  1  3  0]\n",
      " [ 0  0  3  1  0]]\n"
     ]
    }
   ],
   "source": [
    "print(\"Matriz de confusão do modelo com dados brutos:\")\n",
    "print(conf_matrix_raw)"
   ]
  },
  {
   "cell_type": "markdown",
   "metadata": {},
   "source": [
    "# 8 Separação dos dados tratados em treino e teste"
   ]
  },
  {
   "cell_type": "code",
   "execution_count": 16,
   "metadata": {},
   "outputs": [],
   "source": [
    "X_treated = df_scaled.drop('target', axis=1)\n",
    "y_treated = df_scaled['target']\n",
    "X_treated_train, X_treated_test, y_treated_train, y_treated_test = train_test_split(X_treated, y_treated, test_size=0.2, random_state=42)"
   ]
  },
  {
   "cell_type": "markdown",
   "metadata": {},
   "source": [
    "# 9 Modelo de Machine Learning com dados tratados"
   ]
  },
  {
   "cell_type": "markdown",
   "metadata": {},
   "source": [
    "## 9.1 Treinamento com dados tratados"
   ]
  },
  {
   "cell_type": "code",
   "execution_count": 17,
   "metadata": {},
   "outputs": [],
   "source": [
    "model_treated = LogisticRegression(random_state=42)\n",
    "model_treated.fit(X_treated_train, y_treated_train)\n",
    "y_pred_treated = model_treated.predict(X_treated_test)"
   ]
  },
  {
   "cell_type": "markdown",
   "metadata": {},
   "source": [
    "## 9.2 Métricas de desempenho"
   ]
  },
  {
   "cell_type": "code",
   "execution_count": 18,
   "metadata": {},
   "outputs": [],
   "source": [
    "accuracy_treated = accuracy_score(y_treated_test, y_pred_treated)\n",
    "conf_matrix_treated = confusion_matrix(y_treated_test, y_pred_treated)"
   ]
  },
  {
   "cell_type": "code",
   "execution_count": 19,
   "metadata": {},
   "outputs": [
    {
     "name": "stdout",
     "output_type": "stream",
     "text": [
      "Acurácia do modelo com dados tratados: 0.5245901639344263\n"
     ]
    }
   ],
   "source": [
    "print(\"Acurácia do modelo com dados tratados:\", accuracy_treated)"
   ]
  },
  {
   "cell_type": "markdown",
   "metadata": {},
   "source": [
    "# 10 Comparação de resultados"
   ]
  },
  {
   "cell_type": "markdown",
   "metadata": {},
   "source": [
    "## 10.1 Plot da matriz de confusão"
   ]
  },
  {
   "cell_type": "code",
   "execution_count": 20,
   "metadata": {},
   "outputs": [
    {
     "data": {
      "image/png": "[encoded data removed]",
      "text/plain": [
       "<Figure size 1400x500 with 4 Axes>"
      ]
     },
     "metadata": {},
     "output_type": "display_data"
    }
   ],
   "source": [
    "fig, ax = plt.subplots(1, 2, figsize=(14, 5))\n",
    "\n",
    "sns.heatmap(conf_matrix_raw, annot=True, fmt='d', ax=ax[0], cmap='Blues')\n",
    "ax[0].set_title('Matriz de Confusão - Dados Brutos')\n",
    "ax[0].set_xlabel('Predito')\n",
    "ax[0].set_ylabel('Verdadeiro')\n",
    "\n",
    "sns.heatmap(conf_matrix_treated, annot=True, fmt='d', ax=ax[1], cmap='Greens')\n",
    "ax[1].set_title('Matriz de Confusão - Dados Tratados')\n",
    "ax[1].set_xlabel('Predito')\n",
    "ax[1].set_ylabel('Verdadeiro')\n",
    "\n",
    "plt.tight_layout()\n",
    "plt.show()"
   ]
  },
  {
   "cell_type": "markdown",
   "metadata": {},
   "source": [
    "## 10.2 Comparação das acurácias"
   ]
  },
  {
   "cell_type": "code",
   "execution_count": 21,
   "metadata": {},
   "outputs": [
    {
     "name": "stdout",
     "output_type": "stream",
     "text": [
      "Acurácia com dados brutos: 0.5573770491803278\n",
      "Acurácia com dados tratados: 0.5245901639344263\n"
     ]
    }
   ],
   "source": [
    "print(\"Acurácia com dados brutos:\", accuracy_raw)\n",
    "print(\"Acurácia com dados tratados:\", accuracy_treated)"
   ]
  }
 ],
 "metadata": {
  "kernelspec": {
   "display_name": "Python 3",
   "language": "python",
   "name": "python3"
  },
  "language_info": {
   "codemirror_mode": {
    "name": "ipython",
    "version": 3
   },
   "file_extension": ".py",
   "mimetype": "text/x-python",
   "name": "python",
   "nbconvert_exporter": "python",
   "pygments_lexer": "ipython3",
   "version": "3.12.4"
  }
 },
 "nbformat": 4,
 "nbformat_minor": 2
}
